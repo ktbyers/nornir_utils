{
 "cells": [
  {
   "cell_type": "markdown",
   "metadata": {
    "collapsed": false
   },
   "source": [
    "# load_yaml\n",
    "\n",
    "Loads a YAML file.\n",
    "\n",
    "## Example"
   ]
  },
  {
   "cell_type": "code",
   "execution_count": 20,
   "metadata": {
    "pycharm": {
     "name": "#%%\n"
    }
   },
   "outputs": [
    {
     "name": "stdout",
     "output_type": "stream",
     "output_type": "stream",
     "text": [
      "\n",
      "----------------------------------------\n",
      "Host: dev1.group_1\n",
      "YAML data: ['8.8.8.8', '8.8.4.4', '1.1.1.1', '1.0.0.1']\n",
      "----------------------------------------\n",
      "\n",
      "----------------------------------------\n",
      "Host: dev2.group_1\n",
      "YAML data: ['8.8.8.8', '8.8.4.4', '1.1.1.1', '1.0.0.1']\n",
      "----------------------------------------\n",
      "\n",
      "----------------------------------------\n",
      "Host: dev3.group_2\n",
      "YAML data: ['8.8.8.8', '8.8.4.4', '1.1.1.1', '1.0.0.1']\n",
      "----------------------------------------\n",
      "\n",
      "----------------------------------------\n",
      "Host: dev4.group_2\n",
      "YAML data: ['8.8.8.8', '8.8.4.4', '1.1.1.1', '1.0.0.1']\n",
      "----------------------------------------\n",
      "\n",
      "----------------------------------------\n",
      "Host: dev5.no_group\n",
      "YAML data: ['8.8.8.8', '8.8.4.4', '1.1.1.1', '1.0.0.1']\n",
      "----------------------------------------\n"
     ]
    }
   ],
   "source": [
    "from nornir import InitNornir\n",
    "from nornir_utils.plugins.data import load_yaml\n",
    "\n",
    "nr = InitNornir(\n",
    "    inventory={\n",
    "        \"plugin\": \"SimpleInventory\",\n",
    "        \"options\": {\"host_file\": \"data/hosts.yaml\", \"group_file\": \"data/groups.yaml\"},\n",
    "    }\n",
    ")\n",
    "\n",
    "r = nr.run(task=load_yaml, file=\"data/ip_addresses.yaml\")\n",
    "for host, m_result in r.items():\n",
    "    print()\n",
    "    print(\"-\" * 40)\n",
    "    print(f\"Host: {host}\")\n",
    "    print(f\"YAML data: {m_result.result}\")\n",
    "    print(\"-\" * 40)"
   ]
  }
 ],
 "metadata": {
  "kernelspec": {
   "display_name": "Python 3",
   "language": "python",
   "name": "python3"
  },
  "language_info": {
   "codemirror_mode": {
    "name": "ipython",
    "version": 3
   },
   "file_extension": ".py",
   "mimetype": "text/x-python",
   "name": "python",
   "nbconvert_exporter": "python",
   "pygments_lexer": "ipython3",
   "version": "3.8.2"
  }
 },
 "nbformat": 4,
 "nbformat_minor": 2
}
